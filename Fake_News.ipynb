{
  "cells": [
    {
      "cell_type": "markdown",
      "metadata": {
        "id": "view-in-github",
        "colab_type": "text"
      },
      "source": [
        "<a href=\"https://colab.research.google.com/github/Priyagane/Fake-News/blob/main/Fake_News.ipynb\" target=\"_parent\"><img src=\"https://colab.research.google.com/assets/colab-badge.svg\" alt=\"Open In Colab\"/></a>"
      ]
    },
    {
      "cell_type": "code",
      "execution_count": 1,
      "metadata": {
        "colab": {
          "base_uri": "https://localhost:8080/"
        },
        "id": "Jy4-cBRyRskB",
        "outputId": "07a8ba78-b06e-4fce-b73e-63d5e562278b"
      },
      "outputs": [
        {
          "output_type": "stream",
          "name": "stderr",
          "text": [
            "[nltk_data] Downloading package stopwords to /root/nltk_data...\n",
            "[nltk_data]   Unzipping corpora/stopwords.zip.\n"
          ]
        }
      ],
      "source": [
        "\n",
        "import pandas as pd\n",
        "import numpy as np\n",
        "import re \n",
        "import nltk\n",
        "nltk.download('stopwords')\n",
        "from nltk.corpus import stopwords\n",
        "from nltk.stem.porter import PorterStemmer \n",
        "from sklearn.feature_extraction.text import TfidfVectorizer\n",
        "from sklearn.model_selection import train_test_split\n",
        "from sklearn.linear_model import LogisticRegression\n",
        "\n",
        "\n",
        "import matplotlib as plt\n",
        "Dataset = pd.read_csv(\"/content/drive/MyDrive/Data_sets/Fake News/train.csv\")\n"
      ]
    },
    {
      "cell_type": "code",
      "execution_count": 2,
      "metadata": {
        "colab": {
          "base_uri": "https://localhost:8080/",
          "height": 206
        },
        "id": "_ymqqlz9WS6b",
        "outputId": "88457f0f-9a60-4e80-b117-167a34363d5f"
      },
      "outputs": [
        {
          "output_type": "execute_result",
          "data": {
            "text/plain": [
              "   id                                              title              author  \\\n",
              "0   0  House Dem Aide: We Didn’t Even See Comey’s Let...       Darrell Lucus   \n",
              "1   1  FLYNN: Hillary Clinton, Big Woman on Campus - ...     Daniel J. Flynn   \n",
              "2   2                  Why the Truth Might Get You Fired  Consortiumnews.com   \n",
              "3   3  15 Civilians Killed In Single US Airstrike Hav...     Jessica Purkiss   \n",
              "4   4  Iranian woman jailed for fictional unpublished...      Howard Portnoy   \n",
              "\n",
              "                                                text  label  \n",
              "0  House Dem Aide: We Didn’t Even See Comey’s Let...      1  \n",
              "1  Ever get the feeling your life circles the rou...      0  \n",
              "2  Why the Truth Might Get You Fired October 29, ...      1  \n",
              "3  Videos 15 Civilians Killed In Single US Airstr...      1  \n",
              "4  Print \\nAn Iranian woman has been sentenced to...      1  "
            ],
            "text/html": [
              "\n",
              "  <div id=\"df-fcc59fb6-7555-4221-ba1f-716d0fc95ef4\">\n",
              "    <div class=\"colab-df-container\">\n",
              "      <div>\n",
              "<style scoped>\n",
              "    .dataframe tbody tr th:only-of-type {\n",
              "        vertical-align: middle;\n",
              "    }\n",
              "\n",
              "    .dataframe tbody tr th {\n",
              "        vertical-align: top;\n",
              "    }\n",
              "\n",
              "    .dataframe thead th {\n",
              "        text-align: right;\n",
              "    }\n",
              "</style>\n",
              "<table border=\"1\" class=\"dataframe\">\n",
              "  <thead>\n",
              "    <tr style=\"text-align: right;\">\n",
              "      <th></th>\n",
              "      <th>id</th>\n",
              "      <th>title</th>\n",
              "      <th>author</th>\n",
              "      <th>text</th>\n",
              "      <th>label</th>\n",
              "    </tr>\n",
              "  </thead>\n",
              "  <tbody>\n",
              "    <tr>\n",
              "      <th>0</th>\n",
              "      <td>0</td>\n",
              "      <td>House Dem Aide: We Didn’t Even See Comey’s Let...</td>\n",
              "      <td>Darrell Lucus</td>\n",
              "      <td>House Dem Aide: We Didn’t Even See Comey’s Let...</td>\n",
              "      <td>1</td>\n",
              "    </tr>\n",
              "    <tr>\n",
              "      <th>1</th>\n",
              "      <td>1</td>\n",
              "      <td>FLYNN: Hillary Clinton, Big Woman on Campus - ...</td>\n",
              "      <td>Daniel J. Flynn</td>\n",
              "      <td>Ever get the feeling your life circles the rou...</td>\n",
              "      <td>0</td>\n",
              "    </tr>\n",
              "    <tr>\n",
              "      <th>2</th>\n",
              "      <td>2</td>\n",
              "      <td>Why the Truth Might Get You Fired</td>\n",
              "      <td>Consortiumnews.com</td>\n",
              "      <td>Why the Truth Might Get You Fired October 29, ...</td>\n",
              "      <td>1</td>\n",
              "    </tr>\n",
              "    <tr>\n",
              "      <th>3</th>\n",
              "      <td>3</td>\n",
              "      <td>15 Civilians Killed In Single US Airstrike Hav...</td>\n",
              "      <td>Jessica Purkiss</td>\n",
              "      <td>Videos 15 Civilians Killed In Single US Airstr...</td>\n",
              "      <td>1</td>\n",
              "    </tr>\n",
              "    <tr>\n",
              "      <th>4</th>\n",
              "      <td>4</td>\n",
              "      <td>Iranian woman jailed for fictional unpublished...</td>\n",
              "      <td>Howard Portnoy</td>\n",
              "      <td>Print \\nAn Iranian woman has been sentenced to...</td>\n",
              "      <td>1</td>\n",
              "    </tr>\n",
              "  </tbody>\n",
              "</table>\n",
              "</div>\n",
              "      <button class=\"colab-df-convert\" onclick=\"convertToInteractive('df-fcc59fb6-7555-4221-ba1f-716d0fc95ef4')\"\n",
              "              title=\"Convert this dataframe to an interactive table.\"\n",
              "              style=\"display:none;\">\n",
              "        \n",
              "  <svg xmlns=\"http://www.w3.org/2000/svg\" height=\"24px\"viewBox=\"0 0 24 24\"\n",
              "       width=\"24px\">\n",
              "    <path d=\"M0 0h24v24H0V0z\" fill=\"none\"/>\n",
              "    <path d=\"M18.56 5.44l.94 2.06.94-2.06 2.06-.94-2.06-.94-.94-2.06-.94 2.06-2.06.94zm-11 1L8.5 8.5l.94-2.06 2.06-.94-2.06-.94L8.5 2.5l-.94 2.06-2.06.94zm10 10l.94 2.06.94-2.06 2.06-.94-2.06-.94-.94-2.06-.94 2.06-2.06.94z\"/><path d=\"M17.41 7.96l-1.37-1.37c-.4-.4-.92-.59-1.43-.59-.52 0-1.04.2-1.43.59L10.3 9.45l-7.72 7.72c-.78.78-.78 2.05 0 2.83L4 21.41c.39.39.9.59 1.41.59.51 0 1.02-.2 1.41-.59l7.78-7.78 2.81-2.81c.8-.78.8-2.07 0-2.86zM5.41 20L4 18.59l7.72-7.72 1.47 1.35L5.41 20z\"/>\n",
              "  </svg>\n",
              "      </button>\n",
              "      \n",
              "  <style>\n",
              "    .colab-df-container {\n",
              "      display:flex;\n",
              "      flex-wrap:wrap;\n",
              "      gap: 12px;\n",
              "    }\n",
              "\n",
              "    .colab-df-convert {\n",
              "      background-color: #E8F0FE;\n",
              "      border: none;\n",
              "      border-radius: 50%;\n",
              "      cursor: pointer;\n",
              "      display: none;\n",
              "      fill: #1967D2;\n",
              "      height: 32px;\n",
              "      padding: 0 0 0 0;\n",
              "      width: 32px;\n",
              "    }\n",
              "\n",
              "    .colab-df-convert:hover {\n",
              "      background-color: #E2EBFA;\n",
              "      box-shadow: 0px 1px 2px rgba(60, 64, 67, 0.3), 0px 1px 3px 1px rgba(60, 64, 67, 0.15);\n",
              "      fill: #174EA6;\n",
              "    }\n",
              "\n",
              "    [theme=dark] .colab-df-convert {\n",
              "      background-color: #3B4455;\n",
              "      fill: #D2E3FC;\n",
              "    }\n",
              "\n",
              "    [theme=dark] .colab-df-convert:hover {\n",
              "      background-color: #434B5C;\n",
              "      box-shadow: 0px 1px 3px 1px rgba(0, 0, 0, 0.15);\n",
              "      filter: drop-shadow(0px 1px 2px rgba(0, 0, 0, 0.3));\n",
              "      fill: #FFFFFF;\n",
              "    }\n",
              "  </style>\n",
              "\n",
              "      <script>\n",
              "        const buttonEl =\n",
              "          document.querySelector('#df-fcc59fb6-7555-4221-ba1f-716d0fc95ef4 button.colab-df-convert');\n",
              "        buttonEl.style.display =\n",
              "          google.colab.kernel.accessAllowed ? 'block' : 'none';\n",
              "\n",
              "        async function convertToInteractive(key) {\n",
              "          const element = document.querySelector('#df-fcc59fb6-7555-4221-ba1f-716d0fc95ef4');\n",
              "          const dataTable =\n",
              "            await google.colab.kernel.invokeFunction('convertToInteractive',\n",
              "                                                     [key], {});\n",
              "          if (!dataTable) return;\n",
              "\n",
              "          const docLinkHtml = 'Like what you see? Visit the ' +\n",
              "            '<a target=\"_blank\" href=https://colab.research.google.com/notebooks/data_table.ipynb>data table notebook</a>'\n",
              "            + ' to learn more about interactive tables.';\n",
              "          element.innerHTML = '';\n",
              "          dataTable['output_type'] = 'display_data';\n",
              "          await google.colab.output.renderOutput(dataTable, element);\n",
              "          const docLink = document.createElement('div');\n",
              "          docLink.innerHTML = docLinkHtml;\n",
              "          element.appendChild(docLink);\n",
              "        }\n",
              "      </script>\n",
              "    </div>\n",
              "  </div>\n",
              "  "
            ]
          },
          "metadata": {},
          "execution_count": 2
        }
      ],
      "source": [
        "Dataset.head()"
      ]
    },
    {
      "cell_type": "code",
      "execution_count": null,
      "metadata": {
        "colab": {
          "base_uri": "https://localhost:8080/"
        },
        "id": "Bmeyxs6OWYL1",
        "outputId": "0581ec49-e295-4aa5-d2be-acbe880ebd12"
      },
      "outputs": [
        {
          "output_type": "execute_result",
          "data": {
            "text/plain": [
              "(20800, 5)"
            ]
          },
          "metadata": {},
          "execution_count": 5
        }
      ],
      "source": [
        "Dataset.shape"
      ]
    },
    {
      "cell_type": "code",
      "execution_count": null,
      "metadata": {
        "colab": {
          "base_uri": "https://localhost:8080/"
        },
        "id": "Y5LWCGqwWksW",
        "outputId": "6a886b62-9d9d-4ea4-83f2-b2091cd9f7bd"
      },
      "outputs": [
        {
          "output_type": "execute_result",
          "data": {
            "text/plain": [
              "id           0\n",
              "title      558\n",
              "author    1957\n",
              "text        39\n",
              "label        0\n",
              "dtype: int64"
            ]
          },
          "metadata": {},
          "execution_count": 6
        }
      ],
      "source": [
        "#count of missing Values\n",
        "Dataset.isnull().sum()"
      ]
    },
    {
      "cell_type": "code",
      "execution_count": null,
      "metadata": {
        "id": "PZWXoAFgXTAZ"
      },
      "outputs": [],
      "source": [
        "#replacing the null values with empty string\n",
        "Dataset = Dataset.dropna()"
      ]
    },
    {
      "cell_type": "code",
      "execution_count": null,
      "metadata": {
        "colab": {
          "base_uri": "https://localhost:8080/"
        },
        "id": "Tj7ny2qYXmQD",
        "outputId": "7a76250f-bb35-4e93-9035-1e0667c3f7be"
      },
      "outputs": [
        {
          "output_type": "execute_result",
          "data": {
            "text/plain": [
              "id        0\n",
              "title     0\n",
              "author    0\n",
              "text      0\n",
              "label     0\n",
              "dtype: int64"
            ]
          },
          "metadata": {},
          "execution_count": 8
        }
      ],
      "source": [
        "Dataset.isnull().sum()"
      ]
    },
    {
      "cell_type": "code",
      "execution_count": null,
      "metadata": {
        "colab": {
          "base_uri": "https://localhost:8080/"
        },
        "id": "qkkBIVtXd255",
        "outputId": "52d715b6-6558-4799-9637-d391773b462c"
      },
      "outputs": [
        {
          "output_type": "stream",
          "name": "stdout",
          "text": [
            "<class 'pandas.core.frame.DataFrame'>\n",
            "Int64Index: 18285 entries, 0 to 20799\n",
            "Data columns (total 5 columns):\n",
            " #   Column  Non-Null Count  Dtype \n",
            "---  ------  --------------  ----- \n",
            " 0   id      18285 non-null  int64 \n",
            " 1   title   18285 non-null  object\n",
            " 2   author  18285 non-null  object\n",
            " 3   text    18285 non-null  object\n",
            " 4   label   18285 non-null  int64 \n",
            "dtypes: int64(2), object(3)\n",
            "memory usage: 857.1+ KB\n"
          ]
        }
      ],
      "source": [
        "Dataset.info()"
      ]
    },
    {
      "cell_type": "code",
      "execution_count": null,
      "metadata": {
        "colab": {
          "base_uri": "https://localhost:8080/"
        },
        "id": "9DRvziAQ0W3g",
        "outputId": "2a4c395d-a38d-4690-9da0-4b2754300244"
      },
      "outputs": [
        {
          "output_type": "execute_result",
          "data": {
            "text/plain": [
              "0    10361\n",
              "1     7924\n",
              "Name: label, dtype: int64"
            ]
          },
          "metadata": {},
          "execution_count": 10
        }
      ],
      "source": [
        "Dataset['label'].value_counts()"
      ]
    },
    {
      "cell_type": "code",
      "execution_count": 5,
      "metadata": {
        "id": "zRei5skomhf6"
      },
      "outputs": [],
      "source": [
        "port_stem = PorterStemmer()\n",
        "def stemming(cont):\n",
        "  stem_cont = re.sub('[^a-zA-Z]',\" \",str(cont))\n",
        "  stem_cont = stem_cont.lower()\n",
        "  stem_cont = stem_cont.split()\n",
        "  stem_cont = [port_stem.stem(word) for word in stem_cont if not word in stopwords.words('english')]\n",
        "  stem_cont = \" \".join(stem_cont)\n",
        "  return stem_cont\n"
      ]
    },
    {
      "cell_type": "code",
      "execution_count": 6,
      "metadata": {
        "id": "U1sv1tR9oCXK"
      },
      "outputs": [],
      "source": [
        "Dataset[\"text\"] = Dataset[\"text\"].apply(stemming)"
      ]
    },
    {
      "cell_type": "code",
      "execution_count": 3,
      "metadata": {
        "id": "xob2UK2hxjmW"
      },
      "outputs": [],
      "source": [
        "X = Dataset[\"text\"]\n",
        "Y = Dataset[\"label\"]"
      ]
    },
    {
      "cell_type": "code",
      "execution_count": 8,
      "metadata": {
        "id": "P3XoU28AxvXy"
      },
      "outputs": [],
      "source": [
        "#converting text to numbers\n",
        "vc = TfidfVectorizer()\n",
        "vc.fit(X)\n",
        "X = vc.transform(X)"
      ]
    },
    {
      "cell_type": "code",
      "execution_count": null,
      "metadata": {
        "id": "CLJAkcwbyjCi"
      },
      "outputs": [],
      "source": [
        "#spliting the dataset to train, test\n",
        "X_train, X_test, Y_train,Y_test=train_test_split(X,Y, test_size=0.2,stratify = Y)"
      ]
    },
    {
      "cell_type": "markdown",
      "source": [
        "Logistic Regression"
      ],
      "metadata": {
        "id": "MKC1swj5Ksne"
      }
    },
    {
      "cell_type": "code",
      "execution_count": null,
      "metadata": {
        "id": "KssmZ0cyzwd0",
        "colab": {
          "base_uri": "https://localhost:8080/"
        },
        "outputId": "b52869c5-69cd-425b-8a9f-5d5830fc687c"
      },
      "outputs": [
        {
          "output_type": "execute_result",
          "data": {
            "text/plain": [
              "LogisticRegression()"
            ]
          },
          "metadata": {},
          "execution_count": 82
        }
      ],
      "source": [
        "#Trainning the model\n",
        "lg = LogisticRegression()\n",
        "lg.fit(X_train,Y_train)"
      ]
    },
    {
      "cell_type": "code",
      "execution_count": null,
      "metadata": {
        "id": "H7TWkgSy0Izg"
      },
      "outputs": [],
      "source": [
        "from sklearn.metrics import accuracy_score\n",
        "from sklearn.metrics import mean_squared_error,mean_absolute_error, r2_score\n",
        "from sklearn.metrics import classification_report\n",
        "pred =  lg.predict(X_test)\n",
        "acc = accuracy_score(pred,Y_test)"
      ]
    },
    {
      "cell_type": "code",
      "execution_count": null,
      "metadata": {
        "id": "4UijiMFu1H4t",
        "colab": {
          "base_uri": "https://localhost:8080/"
        },
        "outputId": "b596def0-e20a-4680-9566-1abc2f3c232c"
      },
      "outputs": [
        {
          "output_type": "execute_result",
          "data": {
            "text/plain": [
              "0.9505058791359038"
            ]
          },
          "metadata": {},
          "execution_count": 84
        }
      ],
      "source": [
        "acc"
      ]
    },
    {
      "cell_type": "code",
      "execution_count": null,
      "metadata": {
        "id": "bQ0YtjLe-LXi",
        "colab": {
          "base_uri": "https://localhost:8080/"
        },
        "outputId": "3781bc3e-6a92-4f7d-9d06-fbaf6fbd259a"
      },
      "outputs": [
        {
          "output_type": "stream",
          "name": "stdout",
          "text": [
            "              precision    recall  f1-score   support\n",
            "\n",
            "           0       0.95      0.96      0.96      2072\n",
            "           1       0.95      0.94      0.94      1585\n",
            "\n",
            "    accuracy                           0.95      3657\n",
            "   macro avg       0.95      0.95      0.95      3657\n",
            "weighted avg       0.95      0.95      0.95      3657\n",
            "\n"
          ]
        }
      ],
      "source": [
        "print( classification_report(Y_test, pred) )"
      ]
    },
    {
      "cell_type": "code",
      "source": [
        "from sklearn.metrics import ConfusionMatrixDisplay\n",
        "import matplotlib.pyplot as plt\n",
        "titles_options = [\n",
        "    (\"Confusion matrix, without normalization\", None),\n",
        "    (\"Normalized confusion matrix\", \"true\"),\n",
        "]\n",
        "class_names= Dataset.label\n",
        "for title, normalize in titles_options:\n",
        "    disp = ConfusionMatrixDisplay.from_estimator(\n",
        "        lg,\n",
        "        X_test,\n",
        "        Y_test,\n",
        "        display_labels=class_names,\n",
        "        cmap=plt.cm.Blues,\n",
        "        normalize=normalize,\n",
        "    )\n",
        "    disp.ax_.set_title(title)\n",
        "\n",
        "    print(title)\n",
        "    print(disp.confusion_matrix)\n",
        "\n",
        "plt.show()"
      ],
      "metadata": {
        "colab": {
          "base_uri": "https://localhost:8080/",
          "height": 680
        },
        "id": "sPeR5hIBxeeW",
        "outputId": "f83c766a-2918-49ef-e68a-de1d1203e550"
      },
      "execution_count": null,
      "outputs": [
        {
          "output_type": "stream",
          "name": "stdout",
          "text": [
            "Confusion matrix, without normalization\n",
            "[[1992   80]\n",
            " [ 101 1484]]\n",
            "Normalized confusion matrix\n",
            "[[0.96138996 0.03861004]\n",
            " [0.0637224  0.9362776 ]]\n"
          ]
        },
        {
          "output_type": "display_data",
          "data": {
            "text/plain": [
              "<Figure size 432x288 with 2 Axes>"
            ],
            "image/png": "[encoded data removed]"
          },
          "metadata": {
            "needs_background": "light"
          }
        },
        {
          "output_type": "display_data",
          "data": {
            "text/plain": [
              "<Figure size 432x288 with 2 Axes>"
            ],
            "image/png": "[encoded data removed]"
          },
          "metadata": {
            "needs_background": "light"
          }
        }
      ]
    },
    {
      "cell_type": "code",
      "execution_count": null,
      "metadata": {
        "id": "B3UzwPF-2Sj_",
        "colab": {
          "base_uri": "https://localhost:8080/",
          "height": 424
        },
        "outputId": "bd8943a4-017c-46e7-aa6a-d672217babc2"
      },
      "outputs": [
        {
          "output_type": "execute_result",
          "data": {
            "text/plain": [
              "       pred  y-test\n",
              "7950      0       0\n",
              "16236     1       1\n",
              "2122      1       1\n",
              "10345     0       0\n",
              "3627      1       1\n",
              "...     ...     ...\n",
              "7688      1       1\n",
              "18155     1       1\n",
              "10654     1       1\n",
              "2410      0       0\n",
              "7640      0       0\n",
              "\n",
              "[3657 rows x 2 columns]"
            ],
            "text/html": [
              "\n",
              "  <div id=\"df-ebaf5e6b-25b8-4dc3-889a-57487f3cb710\">\n",
              "    <div class=\"colab-df-container\">\n",
              "      <div>\n",
              "<style scoped>\n",
              "    .dataframe tbody tr th:only-of-type {\n",
              "        vertical-align: middle;\n",
              "    }\n",
              "\n",
              "    .dataframe tbody tr th {\n",
              "        vertical-align: top;\n",
              "    }\n",
              "\n",
              "    .dataframe thead th {\n",
              "        text-align: right;\n",
              "    }\n",
              "</style>\n",
              "<table border=\"1\" class=\"dataframe\">\n",
              "  <thead>\n",
              "    <tr style=\"text-align: right;\">\n",
              "      <th></th>\n",
              "      <th>pred</th>\n",
              "      <th>y-test</th>\n",
              "    </tr>\n",
              "  </thead>\n",
              "  <tbody>\n",
              "    <tr>\n",
              "      <th>7950</th>\n",
              "      <td>0</td>\n",
              "      <td>0</td>\n",
              "    </tr>\n",
              "    <tr>\n",
              "      <th>16236</th>\n",
              "      <td>1</td>\n",
              "      <td>1</td>\n",
              "    </tr>\n",
              "    <tr>\n",
              "      <th>2122</th>\n",
              "      <td>1</td>\n",
              "      <td>1</td>\n",
              "    </tr>\n",
              "    <tr>\n",
              "      <th>10345</th>\n",
              "      <td>0</td>\n",
              "      <td>0</td>\n",
              "    </tr>\n",
              "    <tr>\n",
              "      <th>3627</th>\n",
              "      <td>1</td>\n",
              "      <td>1</td>\n",
              "    </tr>\n",
              "    <tr>\n",
              "      <th>...</th>\n",
              "      <td>...</td>\n",
              "      <td>...</td>\n",
              "    </tr>\n",
              "    <tr>\n",
              "      <th>7688</th>\n",
              "      <td>1</td>\n",
              "      <td>1</td>\n",
              "    </tr>\n",
              "    <tr>\n",
              "      <th>18155</th>\n",
              "      <td>1</td>\n",
              "      <td>1</td>\n",
              "    </tr>\n",
              "    <tr>\n",
              "      <th>10654</th>\n",
              "      <td>1</td>\n",
              "      <td>1</td>\n",
              "    </tr>\n",
              "    <tr>\n",
              "      <th>2410</th>\n",
              "      <td>0</td>\n",
              "      <td>0</td>\n",
              "    </tr>\n",
              "    <tr>\n",
              "      <th>7640</th>\n",
              "      <td>0</td>\n",
              "      <td>0</td>\n",
              "    </tr>\n",
              "  </tbody>\n",
              "</table>\n",
              "<p>3657 rows × 2 columns</p>\n",
              "</div>\n",
              "      <button class=\"colab-df-convert\" onclick=\"convertToInteractive('df-ebaf5e6b-25b8-4dc3-889a-57487f3cb710')\"\n",
              "              title=\"Convert this dataframe to an interactive table.\"\n",
              "              style=\"display:none;\">\n",
              "        \n",
              "  <svg xmlns=\"http://www.w3.org/2000/svg\" height=\"24px\"viewBox=\"0 0 24 24\"\n",
              "       width=\"24px\">\n",
              "    <path d=\"M0 0h24v24H0V0z\" fill=\"none\"/>\n",
              "    <path d=\"M18.56 5.44l.94 2.06.94-2.06 2.06-.94-2.06-.94-.94-2.06-.94 2.06-2.06.94zm-11 1L8.5 8.5l.94-2.06 2.06-.94-2.06-.94L8.5 2.5l-.94 2.06-2.06.94zm10 10l.94 2.06.94-2.06 2.06-.94-2.06-.94-.94-2.06-.94 2.06-2.06.94z\"/><path d=\"M17.41 7.96l-1.37-1.37c-.4-.4-.92-.59-1.43-.59-.52 0-1.04.2-1.43.59L10.3 9.45l-7.72 7.72c-.78.78-.78 2.05 0 2.83L4 21.41c.39.39.9.59 1.41.59.51 0 1.02-.2 1.41-.59l7.78-7.78 2.81-2.81c.8-.78.8-2.07 0-2.86zM5.41 20L4 18.59l7.72-7.72 1.47 1.35L5.41 20z\"/>\n",
              "  </svg>\n",
              "      </button>\n",
              "      \n",
              "  <style>\n",
              "    .colab-df-container {\n",
              "      display:flex;\n",
              "      flex-wrap:wrap;\n",
              "      gap: 12px;\n",
              "    }\n",
              "\n",
              "    .colab-df-convert {\n",
              "      background-color: #E8F0FE;\n",
              "      border: none;\n",
              "      border-radius: 50%;\n",
              "      cursor: pointer;\n",
              "      display: none;\n",
              "      fill: #1967D2;\n",
              "      height: 32px;\n",
              "      padding: 0 0 0 0;\n",
              "      width: 32px;\n",
              "    }\n",
              "\n",
              "    .colab-df-convert:hover {\n",
              "      background-color: #E2EBFA;\n",
              "      box-shadow: 0px 1px 2px rgba(60, 64, 67, 0.3), 0px 1px 3px 1px rgba(60, 64, 67, 0.15);\n",
              "      fill: #174EA6;\n",
              "    }\n",
              "\n",
              "    [theme=dark] .colab-df-convert {\n",
              "      background-color: #3B4455;\n",
              "      fill: #D2E3FC;\n",
              "    }\n",
              "\n",
              "    [theme=dark] .colab-df-convert:hover {\n",
              "      background-color: #434B5C;\n",
              "      box-shadow: 0px 1px 3px 1px rgba(0, 0, 0, 0.15);\n",
              "      filter: drop-shadow(0px 1px 2px rgba(0, 0, 0, 0.3));\n",
              "      fill: #FFFFFF;\n",
              "    }\n",
              "  </style>\n",
              "\n",
              "      <script>\n",
              "        const buttonEl =\n",
              "          document.querySelector('#df-ebaf5e6b-25b8-4dc3-889a-57487f3cb710 button.colab-df-convert');\n",
              "        buttonEl.style.display =\n",
              "          google.colab.kernel.accessAllowed ? 'block' : 'none';\n",
              "\n",
              "        async function convertToInteractive(key) {\n",
              "          const element = document.querySelector('#df-ebaf5e6b-25b8-4dc3-889a-57487f3cb710');\n",
              "          const dataTable =\n",
              "            await google.colab.kernel.invokeFunction('convertToInteractive',\n",
              "                                                     [key], {});\n",
              "          if (!dataTable) return;\n",
              "\n",
              "          const docLinkHtml = 'Like what you see? Visit the ' +\n",
              "            '<a target=\"_blank\" href=https://colab.research.google.com/notebooks/data_table.ipynb>data table notebook</a>'\n",
              "            + ' to learn more about interactive tables.';\n",
              "          element.innerHTML = '';\n",
              "          dataTable['output_type'] = 'display_data';\n",
              "          await google.colab.output.renderOutput(dataTable, element);\n",
              "          const docLink = document.createElement('div');\n",
              "          docLink.innerHTML = docLinkHtml;\n",
              "          element.appendChild(docLink);\n",
              "        }\n",
              "      </script>\n",
              "    </div>\n",
              "  </div>\n",
              "  "
            ]
          },
          "metadata": {},
          "execution_count": 87
        }
      ],
      "source": [
        "df = pd.DataFrame({\"pred\":pred,'y-test':Y_test})\n",
        "df  "
      ]
    },
    {
      "cell_type": "markdown",
      "source": [
        "RandomForest Classifier"
      ],
      "metadata": {
        "id": "iWVE_cfVKyiQ"
      }
    },
    {
      "cell_type": "code",
      "source": [
        "from sklearn.ensemble import RandomForestClassifier\n",
        "rf = RandomForestClassifier()\n",
        "rf.fit(X_train,Y_train)"
      ],
      "metadata": {
        "colab": {
          "base_uri": "https://localhost:8080/"
        },
        "id": "wBQRyJZVvRNd",
        "outputId": "c6d0e8a6-ecd2-4a19-dd93-ecd3730381c7"
      },
      "execution_count": null,
      "outputs": [
        {
          "output_type": "execute_result",
          "data": {
            "text/plain": [
              "RandomForestClassifier()"
            ]
          },
          "metadata": {},
          "execution_count": 88
        }
      ]
    },
    {
      "cell_type": "code",
      "source": [
        "pred =  rf.predict(X_test)\n",
        "acc = accuracy_score(pred,Y_test)\n",
        "acc"
      ],
      "metadata": {
        "colab": {
          "base_uri": "https://localhost:8080/"
        },
        "id": "9sUsouG8xNAW",
        "outputId": "111e0570-4522-4e66-8eb9-169591a2dec6"
      },
      "execution_count": null,
      "outputs": [
        {
          "output_type": "execute_result",
          "data": {
            "text/plain": [
              "0.9070276182663385"
            ]
          },
          "metadata": {},
          "execution_count": 89
        }
      ]
    },
    {
      "cell_type": "code",
      "source": [
        "print( classification_report(Y_test, pred) )"
      ],
      "metadata": {
        "colab": {
          "base_uri": "https://localhost:8080/"
        },
        "id": "hgNJ02PLxRu4",
        "outputId": "c8e5d633-b65b-4bce-8be3-5b879e65abe9"
      },
      "execution_count": null,
      "outputs": [
        {
          "output_type": "stream",
          "name": "stdout",
          "text": [
            "              precision    recall  f1-score   support\n",
            "\n",
            "           0       0.87      0.98      0.92      2072\n",
            "           1       0.97      0.81      0.88      1585\n",
            "\n",
            "    accuracy                           0.91      3657\n",
            "   macro avg       0.92      0.90      0.90      3657\n",
            "weighted avg       0.91      0.91      0.91      3657\n",
            "\n"
          ]
        }
      ]
    },
    {
      "cell_type": "code",
      "source": [
        "from sklearn.metrics import ConfusionMatrixDisplay\n",
        "import matplotlib.pyplot as plt\n",
        "rf.fit(X_train,Y_train)\n",
        "titles_options = [\n",
        "    (\"Confusion matrix, without normalization\", None),\n",
        "    (\"Normalized confusion matrix\", \"true\"),\n",
        "]\n",
        "class_names= Dataset.label\n",
        "\n",
        "for title, normalize in titles_options:\n",
        "    disp = ConfusionMatrixDisplay.from_estimator(\n",
        "        rf,\n",
        "        X_test,\n",
        "        Y_test,\n",
        "        display_labels=class_names,\n",
        "        cmap=plt.cm.Blues,\n",
        "        normalize=normalize,\n",
        "    )\n",
        "    disp.ax_.set_title(title)\n",
        "\n",
        "    print(title)\n",
        "    print(disp.confusion_matrix)\n",
        "\n",
        "plt.show()"
      ],
      "metadata": {
        "colab": {
          "base_uri": "https://localhost:8080/",
          "height": 680
        },
        "id": "aoobD3XRzmUx",
        "outputId": "fce654f0-4ce3-4ffd-e9cb-bcad2e1fd167"
      },
      "execution_count": null,
      "outputs": [
        {
          "output_type": "stream",
          "name": "stdout",
          "text": [
            "Confusion matrix, without normalization\n",
            "[[2021   51]\n",
            " [ 314 1271]]\n",
            "Normalized confusion matrix\n",
            "[[0.9753861  0.0246139 ]\n",
            " [0.19810726 0.80189274]]\n"
          ]
        },
        {
          "output_type": "display_data",
          "data": {
            "text/plain": [
              "<Figure size 432x288 with 2 Axes>"
            ],
            "image/png": "[encoded data removed]"
          },
          "metadata": {
            "needs_background": "light"
          }
        },
        {
          "output_type": "display_data",
          "data": {
            "text/plain": [
              "<Figure size 432x288 with 2 Axes>"
            ],
            "image/png": "[encoded data removed]"
          },
          "metadata": {
            "needs_background": "light"
          }
        }
      ]
    },
    {
      "cell_type": "markdown",
      "source": [
        "Hyperperameter Tunning"
      ],
      "metadata": {
        "id": "H2RKvTjEK62w"
      }
    },
    {
      "cell_type": "code",
      "source": [
        "from sklearn.model_selection import RepeatedStratifiedKFold\n",
        "from sklearn.model_selection import GridSearchCV\n",
        "from sklearn.linear_model import RidgeClassifier\n",
        "# define dataset\n",
        "\n",
        "# define models and parameters\n",
        "model = RidgeClassifier()\n",
        "alpha = [0.1, 0.2, 0.3, 0.4, 0.5, 0.6, 0.7, 0.8, 0.9, 1.0]\n",
        "# define grid search\n",
        "grid = dict(alpha=alpha)\n",
        "cv = RepeatedStratifiedKFold(n_splits=10, n_repeats=3, random_state=1)\n",
        "grid_search = GridSearchCV(estimator=model, param_grid=grid, n_jobs=-1, cv=cv, scoring='accuracy',error_score=0)\n",
        "grid_result = grid_search.fit(X,Y)\n",
        "# summarize results\n",
        "print(\"Best: %f using %s\" % (grid_result.best_score_, grid_result.best_params_))\n",
        "means = grid_result.cv_results_['mean_test_score']\n",
        "stds = grid_result.cv_results_['std_test_score']\n",
        "params = grid_result.cv_results_['params']\n",
        "for mean, stdev, param in zip(means, stds, params):\n",
        "    print(\"%f (%f) with: %r\" % (mean, stdev, param))\n"
      ],
      "metadata": {
        "colab": {
          "base_uri": "https://localhost:8080/"
        },
        "id": "15XIwnYEasQ9",
        "outputId": "f32e4806-ca1a-47a5-ca08-f4718330cc4e"
      },
      "execution_count": null,
      "outputs": [
        {
          "output_type": "stream",
          "name": "stdout",
          "text": [
            "Best: 0.969333 using {'alpha': 0.1}\n",
            "0.969333 (0.012632) with: {'alpha': 0.1}\n",
            "0.969333 (0.012632) with: {'alpha': 0.2}\n",
            "0.969333 (0.012632) with: {'alpha': 0.3}\n",
            "0.969333 (0.012632) with: {'alpha': 0.4}\n",
            "0.969333 (0.012632) with: {'alpha': 0.5}\n",
            "0.969333 (0.012632) with: {'alpha': 0.6}\n",
            "0.969333 (0.012632) with: {'alpha': 0.7}\n",
            "0.969333 (0.012632) with: {'alpha': 0.8}\n",
            "0.969333 (0.012632) with: {'alpha': 0.9}\n",
            "0.969333 (0.012632) with: {'alpha': 1.0}\n"
          ]
        }
      ]
    },
    {
      "cell_type": "code",
      "source": [
        "# example of grid searching key hyperparametres for KNeighborsClassifier\n",
        "\n",
        "from sklearn.model_selection import RepeatedStratifiedKFold\n",
        "from sklearn.model_selection import GridSearchCV\n",
        "from sklearn.neighbors import KNeighborsClassifier\n",
        "# define dataset\n",
        "\n",
        "# define models and parameters\n",
        "model = KNeighborsClassifier()\n",
        "n_neighbors = range(1, 21, 2)\n",
        "weights = ['uniform', 'distance']\n",
        "metric = ['euclidean', 'manhattan', 'minkowski']\n",
        "# define grid search\n",
        "grid = dict(n_neighbors=n_neighbors,weights=weights,metric=metric)\n",
        "cv = RepeatedStratifiedKFold(n_splits=10, n_repeats=3, random_state=1)\n",
        "grid_search = GridSearchCV(estimator=model, param_grid=grid, n_jobs=-1, cv=cv, scoring='accuracy',error_score=0)\n",
        "grid_result = grid_search.fit(X, Y)\n",
        "# summarize results\n",
        "print(\"Best: %f using %s\" % (grid_result.best_score_, grid_result.best_params_))\n",
        "means = grid_result.cv_results_['mean_test_score']\n",
        "stds = grid_result.cv_results_['std_test_score']\n",
        "params = grid_result.cv_results_['params']\n",
        "for mean, stdev, param in zip(means, stds, params):\n",
        "    print(\"%f (%f) with: %r\" % (mean, stdev, param))"
      ],
      "metadata": {
        "colab": {
          "base_uri": "https://localhost:8080/"
        },
        "id": "CFtdAs3NcD9A",
        "outputId": "d848686b-1f14-4c21-e90a-087e060f3a06"
      },
      "execution_count": null,
      "outputs": [
        {
          "output_type": "stream",
          "name": "stdout",
          "text": [
            "Best: 0.964000 using {'metric': 'euclidean', 'n_neighbors': 19, 'weights': 'uniform'}\n",
            "0.849000 (0.040853) with: {'metric': 'euclidean', 'n_neighbors': 1, 'weights': 'uniform'}\n",
            "0.849000 (0.040853) with: {'metric': 'euclidean', 'n_neighbors': 1, 'weights': 'distance'}\n",
            "0.905333 (0.026924) with: {'metric': 'euclidean', 'n_neighbors': 3, 'weights': 'uniform'}\n",
            "0.905333 (0.026924) with: {'metric': 'euclidean', 'n_neighbors': 3, 'weights': 'distance'}\n",
            "0.932000 (0.020881) with: {'metric': 'euclidean', 'n_neighbors': 5, 'weights': 'uniform'}\n",
            "0.932000 (0.020881) with: {'metric': 'euclidean', 'n_neighbors': 5, 'weights': 'distance'}\n",
            "0.945333 (0.014772) with: {'metric': 'euclidean', 'n_neighbors': 7, 'weights': 'uniform'}\n",
            "0.945333 (0.014772) with: {'metric': 'euclidean', 'n_neighbors': 7, 'weights': 'distance'}\n",
            "0.950333 (0.016017) with: {'metric': 'euclidean', 'n_neighbors': 9, 'weights': 'uniform'}\n",
            "0.950333 (0.016017) with: {'metric': 'euclidean', 'n_neighbors': 9, 'weights': 'distance'}\n",
            "0.954000 (0.015406) with: {'metric': 'euclidean', 'n_neighbors': 11, 'weights': 'uniform'}\n",
            "0.954000 (0.015406) with: {'metric': 'euclidean', 'n_neighbors': 11, 'weights': 'distance'}\n",
            "0.958333 (0.015293) with: {'metric': 'euclidean', 'n_neighbors': 13, 'weights': 'uniform'}\n",
            "0.958333 (0.015293) with: {'metric': 'euclidean', 'n_neighbors': 13, 'weights': 'distance'}\n",
            "0.960667 (0.018062) with: {'metric': 'euclidean', 'n_neighbors': 15, 'weights': 'uniform'}\n",
            "0.960667 (0.018062) with: {'metric': 'euclidean', 'n_neighbors': 15, 'weights': 'distance'}\n",
            "0.962333 (0.016059) with: {'metric': 'euclidean', 'n_neighbors': 17, 'weights': 'uniform'}\n",
            "0.962333 (0.016059) with: {'metric': 'euclidean', 'n_neighbors': 17, 'weights': 'distance'}\n",
            "0.964000 (0.015620) with: {'metric': 'euclidean', 'n_neighbors': 19, 'weights': 'uniform'}\n",
            "0.964000 (0.015620) with: {'metric': 'euclidean', 'n_neighbors': 19, 'weights': 'distance'}\n",
            "0.837333 (0.034635) with: {'metric': 'manhattan', 'n_neighbors': 1, 'weights': 'uniform'}\n",
            "0.837333 (0.034635) with: {'metric': 'manhattan', 'n_neighbors': 1, 'weights': 'distance'}\n",
            "0.891667 (0.031420) with: {'metric': 'manhattan', 'n_neighbors': 3, 'weights': 'uniform'}\n",
            "0.891667 (0.031420) with: {'metric': 'manhattan', 'n_neighbors': 3, 'weights': 'distance'}\n",
            "0.929000 (0.023854) with: {'metric': 'manhattan', 'n_neighbors': 5, 'weights': 'uniform'}\n",
            "0.929000 (0.023854) with: {'metric': 'manhattan', 'n_neighbors': 5, 'weights': 'distance'}\n",
            "0.935667 (0.018200) with: {'metric': 'manhattan', 'n_neighbors': 7, 'weights': 'uniform'}\n",
            "0.935667 (0.018200) with: {'metric': 'manhattan', 'n_neighbors': 7, 'weights': 'distance'}\n",
            "0.940000 (0.019494) with: {'metric': 'manhattan', 'n_neighbors': 9, 'weights': 'uniform'}\n",
            "0.940000 (0.019494) with: {'metric': 'manhattan', 'n_neighbors': 9, 'weights': 'distance'}\n",
            "0.948667 (0.017651) with: {'metric': 'manhattan', 'n_neighbors': 11, 'weights': 'uniform'}\n",
            "0.948667 (0.017651) with: {'metric': 'manhattan', 'n_neighbors': 11, 'weights': 'distance'}\n",
            "0.951333 (0.016069) with: {'metric': 'manhattan', 'n_neighbors': 13, 'weights': 'uniform'}\n",
            "0.951333 (0.016069) with: {'metric': 'manhattan', 'n_neighbors': 13, 'weights': 'distance'}\n",
            "0.955667 (0.018015) with: {'metric': 'manhattan', 'n_neighbors': 15, 'weights': 'uniform'}\n",
            "0.955667 (0.018015) with: {'metric': 'manhattan', 'n_neighbors': 15, 'weights': 'distance'}\n",
            "0.960000 (0.017701) with: {'metric': 'manhattan', 'n_neighbors': 17, 'weights': 'uniform'}\n",
            "0.960000 (0.017701) with: {'metric': 'manhattan', 'n_neighbors': 17, 'weights': 'distance'}\n",
            "0.961000 (0.017578) with: {'metric': 'manhattan', 'n_neighbors': 19, 'weights': 'uniform'}\n",
            "0.961000 (0.017578) with: {'metric': 'manhattan', 'n_neighbors': 19, 'weights': 'distance'}\n",
            "0.849000 (0.040853) with: {'metric': 'minkowski', 'n_neighbors': 1, 'weights': 'uniform'}\n",
            "0.849000 (0.040853) with: {'metric': 'minkowski', 'n_neighbors': 1, 'weights': 'distance'}\n",
            "0.905333 (0.026924) with: {'metric': 'minkowski', 'n_neighbors': 3, 'weights': 'uniform'}\n",
            "0.905333 (0.026924) with: {'metric': 'minkowski', 'n_neighbors': 3, 'weights': 'distance'}\n",
            "0.932000 (0.020881) with: {'metric': 'minkowski', 'n_neighbors': 5, 'weights': 'uniform'}\n",
            "0.932000 (0.020881) with: {'metric': 'minkowski', 'n_neighbors': 5, 'weights': 'distance'}\n",
            "0.945333 (0.014772) with: {'metric': 'minkowski', 'n_neighbors': 7, 'weights': 'uniform'}\n",
            "0.945333 (0.014772) with: {'metric': 'minkowski', 'n_neighbors': 7, 'weights': 'distance'}\n",
            "0.950333 (0.016017) with: {'metric': 'minkowski', 'n_neighbors': 9, 'weights': 'uniform'}\n",
            "0.950333 (0.016017) with: {'metric': 'minkowski', 'n_neighbors': 9, 'weights': 'distance'}\n",
            "0.954000 (0.015406) with: {'metric': 'minkowski', 'n_neighbors': 11, 'weights': 'uniform'}\n",
            "0.954000 (0.015406) with: {'metric': 'minkowski', 'n_neighbors': 11, 'weights': 'distance'}\n",
            "0.958333 (0.015293) with: {'metric': 'minkowski', 'n_neighbors': 13, 'weights': 'uniform'}\n",
            "0.958333 (0.015293) with: {'metric': 'minkowski', 'n_neighbors': 13, 'weights': 'distance'}\n",
            "0.960667 (0.018062) with: {'metric': 'minkowski', 'n_neighbors': 15, 'weights': 'uniform'}\n",
            "0.960667 (0.018062) with: {'metric': 'minkowski', 'n_neighbors': 15, 'weights': 'distance'}\n",
            "0.962333 (0.016059) with: {'metric': 'minkowski', 'n_neighbors': 17, 'weights': 'uniform'}\n",
            "0.962333 (0.016059) with: {'metric': 'minkowski', 'n_neighbors': 17, 'weights': 'distance'}\n",
            "0.964000 (0.015620) with: {'metric': 'minkowski', 'n_neighbors': 19, 'weights': 'uniform'}\n",
            "0.964000 (0.015620) with: {'metric': 'minkowski', 'n_neighbors': 19, 'weights': 'distance'}\n"
          ]
        }
      ]
    },
    {
      "cell_type": "code",
      "source": [
        "# example of grid searching key hyperparametres for SVC\n",
        "\n",
        "from sklearn.model_selection import RepeatedStratifiedKFold\n",
        "from sklearn.model_selection import GridSearchCV\n",
        "from sklearn.svm import SVC\n",
        "# define model and parameters\n",
        "model = SVC()\n",
        "kernel = ['poly', 'rbf', 'sigmoid']\n",
        "C = [50, 10, 1.0, 0.1, 0.01]\n",
        "gamma = ['scale']\n",
        "# define grid search\n",
        "grid = dict(kernel=kernel,C=C,gamma=gamma)\n",
        "cv = RepeatedStratifiedKFold(n_splits=10, n_repeats=3, random_state=1)\n",
        "grid_search = GridSearchCV(estimator=model, param_grid=grid, n_jobs=-1, cv=cv, scoring='accuracy',error_score=0)\n",
        "grid_result = grid_search.fit(X, Y)\n",
        "# summarize results\n",
        "print(\"Best: %f using %s\" % (grid_result.best_score_, grid_result.best_params_))\n",
        "means = grid_result.cv_results_['mean_test_score']\n",
        "stds = grid_result.cv_results_['std_test_score']\n",
        "params = grid_result.cv_results_['params']\n",
        "for mean, stdev, param in zip(means, stds, params):\n",
        "    print(\"%f (%f) with: %r\" % (mean, stdev, param))"
      ],
      "metadata": {
        "colab": {
          "base_uri": "https://localhost:8080/"
        },
        "id": "G9u_EZK-cNN2",
        "outputId": "b1a88ff7-31ba-492a-d643-bb052092326f"
      },
      "execution_count": null,
      "outputs": [
        {
          "output_type": "stream",
          "name": "stdout",
          "text": [
            "Best: 0.977667 using {'C': 0.1, 'gamma': 'scale', 'kernel': 'rbf'}\n",
            "0.971667 (0.012931) with: {'C': 50, 'gamma': 'scale', 'kernel': 'poly'}\n",
            "0.970333 (0.013780) with: {'C': 50, 'gamma': 'scale', 'kernel': 'rbf'}\n",
            "0.954000 (0.016653) with: {'C': 50, 'gamma': 'scale', 'kernel': 'sigmoid'}\n",
            "0.971667 (0.012931) with: {'C': 10, 'gamma': 'scale', 'kernel': 'poly'}\n",
            "0.970333 (0.013780) with: {'C': 10, 'gamma': 'scale', 'kernel': 'rbf'}\n",
            "0.962000 (0.014468) with: {'C': 10, 'gamma': 'scale', 'kernel': 'sigmoid'}\n",
            "0.972333 (0.012828) with: {'C': 1.0, 'gamma': 'scale', 'kernel': 'poly'}\n",
            "0.971000 (0.013000) with: {'C': 1.0, 'gamma': 'scale', 'kernel': 'rbf'}\n",
            "0.971000 (0.010755) with: {'C': 1.0, 'gamma': 'scale', 'kernel': 'sigmoid'}\n",
            "0.958000 (0.019562) with: {'C': 0.1, 'gamma': 'scale', 'kernel': 'poly'}\n",
            "0.977667 (0.012565) with: {'C': 0.1, 'gamma': 'scale', 'kernel': 'rbf'}\n",
            "0.974333 (0.014067) with: {'C': 0.1, 'gamma': 'scale', 'kernel': 'sigmoid'}\n",
            "0.958000 (0.019562) with: {'C': 0.01, 'gamma': 'scale', 'kernel': 'poly'}\n",
            "0.973000 (0.015737) with: {'C': 0.01, 'gamma': 'scale', 'kernel': 'rbf'}\n",
            "0.975000 (0.014318) with: {'C': 0.01, 'gamma': 'scale', 'kernel': 'sigmoid'}\n"
          ]
        }
      ]
    },
    {
      "cell_type": "code",
      "source": [
        "# example of grid searching key hyperparameters for BaggingClassifier\n",
        "\n",
        "from sklearn.model_selection import RepeatedStratifiedKFold\n",
        "from sklearn.model_selection import GridSearchCV\n",
        "from sklearn.ensemble import BaggingClassifier\n",
        "\n",
        "# define models and parameters\n",
        "model = BaggingClassifier()\n",
        "n_estimators = [10, 100, 1000]\n",
        "# define grid search\n",
        "grid = dict(n_estimators=n_estimators)\n",
        "cv = RepeatedStratifiedKFold(n_splits=10, n_repeats=3, random_state=1)\n",
        "grid_search = GridSearchCV(estimator=model, param_grid=grid, n_jobs=-1, cv=cv, scoring='accuracy',error_score=0)\n",
        "grid_result = grid_search.fit(X,Y)\n",
        "# summarize results\n",
        "print(\"Best: %f using %s\" % (grid_result.best_score_, grid_result.best_params_))\n",
        "means = grid_result.cv_results_['mean_test_score']\n",
        "stds = grid_result.cv_results_['std_test_score']\n",
        "params = grid_result.cv_results_['params']\n",
        "for mean, stdev, param in zip(means, stds, params):\n",
        "    print(\"%f (%f) with: %r\" % (mean, stdev, param))"
      ],
      "metadata": {
        "colab": {
          "base_uri": "https://localhost:8080/"
        },
        "id": "ljyVvTsscPw6",
        "outputId": "34576c5a-ddf9-4be2-99d6-850b9bc023b4"
      },
      "execution_count": null,
      "outputs": [
        {
          "output_type": "stream",
          "name": "stdout",
          "text": [
            "Best: 0.903000 using {'n_estimators': 100}\n",
            "0.852333 (0.038616) with: {'n_estimators': 10}\n",
            "0.903000 (0.031953) with: {'n_estimators': 100}\n",
            "0.903000 (0.031427) with: {'n_estimators': 1000}\n"
          ]
        }
      ]
    },
    {
      "cell_type": "code",
      "source": [
        "# example of grid searching key hyperparameters for RandomForestClassifier\n",
        "\n",
        "from sklearn.model_selection import RepeatedStratifiedKFold\n",
        "from sklearn.model_selection import GridSearchCV\n",
        "from sklearn.ensemble import RandomForestClassifier\n",
        "# define dataset\n",
        "\n",
        "# define models and parameters\n",
        "model = RandomForestClassifier()\n",
        "n_estimators = [10, 100, 1000]\n",
        "max_features = ['sqrt', 'log2']\n",
        "# define grid search\n",
        "grid = dict(n_estimators=n_estimators,max_features=max_features)\n",
        "cv = RepeatedStratifiedKFold(n_splits=10, n_repeats=3, random_state=1)\n",
        "grid_search = GridSearchCV(estimator=model, param_grid=grid, n_jobs=-1, cv=cv, scoring='accuracy',error_score=0)\n",
        "grid_result = grid_search.fit(X, Y)\n",
        "# summarize results\n",
        "print(\"Best: %f using %s\" % (grid_result.best_score_, grid_result.best_params_))\n",
        "means = grid_result.cv_results_['mean_test_score']\n",
        "stds = grid_result.cv_results_['std_test_score']\n",
        "params = grid_result.cv_results_['params']\n",
        "for mean, stdev, param in zip(means, stds, params):\n",
        "    print(\"%f (%f) with: %r\" % (mean, stdev, param))"
      ],
      "metadata": {
        "colab": {
          "base_uri": "https://localhost:8080/"
        },
        "id": "Qjp12SidcVIG",
        "outputId": "c1f3a1ee-7322-4306-d64f-80bc01dd8cf4"
      },
      "execution_count": null,
      "outputs": [
        {
          "output_type": "stream",
          "name": "stdout",
          "text": [
            "Best: 0.966000 using {'max_features': 'log2', 'n_estimators': 1000}\n",
            "0.857333 (0.037765) with: {'max_features': 'sqrt', 'n_estimators': 10}\n",
            "0.948333 (0.015934) with: {'max_features': 'sqrt', 'n_estimators': 100}\n",
            "0.958333 (0.015510) with: {'max_features': 'sqrt', 'n_estimators': 1000}\n",
            "0.845667 (0.026418) with: {'max_features': 'log2', 'n_estimators': 10}\n",
            "0.952333 (0.019093) with: {'max_features': 'log2', 'n_estimators': 100}\n",
            "0.966000 (0.015620) with: {'max_features': 'log2', 'n_estimators': 1000}\n"
          ]
        }
      ]
    }
  ],
  "metadata": {
    "accelerator": "GPU",
    "colab": {
      "collapsed_sections": [],
      "provenance": [],
      "mount_file_id": "11qseB4SoWOHb5IayAOi3ieNoI4D79pgU",
      "authorship_tag": "ABX9TyP7YlFNEbBRCdJyaoVZKZ2+",
      "include_colab_link": true
    },
    "kernelspec": {
      "display_name": "Python 3",
      "name": "python3"
    },
    "language_info": {
      "name": "python"
    },
    "gpuClass": "standard"
  },
  "nbformat": 4,
  "nbformat_minor": 0
}